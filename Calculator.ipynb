{
 "cells": [
  {
   "cell_type": "code",
   "execution_count": 5,
   "id": "6d5fd188-5925-4502-a162-9a5d9bb629d4",
   "metadata": {},
   "outputs": [
    {
     "name": "stdout",
     "output_type": "stream",
     "text": [
      "Select operation you need to perform:\n",
      "1. Addition\n",
      "2. Subtraction\n",
      "3. Multiplication\n",
      "4. Division\n"
     ]
    },
    {
     "name": "stdin",
     "output_type": "stream",
     "text": [
      "Enter your choice (1/2/3/4):  1\n",
      "Enter first number:  28\n",
      "Enter second number:  34\n"
     ]
    },
    {
     "name": "stdout",
     "output_type": "stream",
     "text": [
      "Addition =  28.0 + 34.0 = 62.0\n"
     ]
    }
   ],
   "source": [
    "# Define functions using \"def function_name(parameters)\" for basic arithmetic operations\n",
    "\n",
    "# Define function for Addition\n",
    "def add(x, y):\n",
    "    return x + y\n",
    "    \n",
    "# Define function for Subtraction\n",
    "def subtract(x, y):\n",
    "    return x - y\n",
    "    \n",
    "# Define function for Multiplication\n",
    "def multiply(x, y):\n",
    "    return x * y\n",
    "\n",
    "# Define function for Division\n",
    "def divide(x, y):\n",
    "    if y != 0:\n",
    "        return x / y\n",
    "    else:\n",
    "        return \"Any number cannot be divided by zero\"\n",
    "        \n",
    "# Display the required statements using \"print()\" function\n",
    "print(\"Select operation you need to perform:\")\n",
    "print(\"1. Addition\")\n",
    "print(\"2. Subtraction\")\n",
    "print(\"3. Multiplication\")\n",
    "print(\"4. Division\")\n",
    "\n",
    "# Take input from the user for the operation choice\n",
    "choice = input(\"Enter your choice (1/2/3/4): \")\n",
    "\n",
    "#Take input from the user for two numbers to perform arithmetic operation\n",
    "number1 = float(input(\"Enter first number: \"))\n",
    "number2 = float(input(\"Enter second number: \"))\n",
    "\n",
    "# Check whether the choice is one of the four options if not display \"Invalid Choice\" or else perform the arithmetic operation\n",
    "if choice == '1':\n",
    "    print(\"Addition = \",number1, \"+\", number2, \"=\", add(number1, number2))\n",
    "elif choice == '2':\n",
    "    print(\"Subtraction\",number1, \"-\", number2, \"=\", subtract(number1, number2))\n",
    "elif choice == '3':\n",
    "    print(\"Multiplication\",number1, \"*\", number2, \"=\", multiply(number1, number2))\n",
    "elif choice == '4':\n",
    "    print(\"Division\",number1, \"/\", number2, \"=\", divide(number1, number2))\n",
    "else:\n",
    "    print(\"Invalid Choice\")"
   ]
  }
 ],
 "metadata": {
  "kernelspec": {
   "display_name": "Python 3 (ipykernel)",
   "language": "python",
   "name": "python3"
  },
  "language_info": {
   "codemirror_mode": {
    "name": "ipython",
    "version": 3
   },
   "file_extension": ".py",
   "mimetype": "text/x-python",
   "name": "python",
   "nbconvert_exporter": "python",
   "pygments_lexer": "ipython3",
   "version": "3.12.1"
  }
 },
 "nbformat": 4,
 "nbformat_minor": 5
}
