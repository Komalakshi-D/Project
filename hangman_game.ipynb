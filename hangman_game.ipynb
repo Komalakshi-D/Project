{
 "cells": [
  {
   "cell_type": "code",
   "execution_count": 18,
   "id": "373b9bd5-2f70-49f7-a360-2103cad52f65",
   "metadata": {},
   "outputs": [
    {
     "name": "stdout",
     "output_type": "stream",
     "text": [
      "Welcome to Hangman Game!\n",
      " Start the game by trying to guess the word.\n",
      "\n",
      "Word: _______\n"
     ]
    },
    {
     "name": "stdin",
     "output_type": "stream",
     "text": [
      "Enter a letter:  1\n"
     ]
    },
    {
     "name": "stdout",
     "output_type": "stream",
     "text": [
      "Enter only a letter from alphabet.\n",
      "\n",
      "Word: _______\n"
     ]
    },
    {
     "name": "stdin",
     "output_type": "stream",
     "text": [
      "Enter a letter:  e\n"
     ]
    },
    {
     "name": "stdout",
     "output_type": "stream",
     "text": [
      "Incorrect guess!\n",
      "The letter is not present in the word\n",
      "Attempts left to play the game: 4\n",
      "\n",
      "Word: _______\n"
     ]
    },
    {
     "name": "stdin",
     "output_type": "stream",
     "text": [
      "Enter a letter:  p\n"
     ]
    },
    {
     "name": "stdout",
     "output_type": "stream",
     "text": [
      "Correct guess!\n",
      "The letter is present in the word\n",
      "\n",
      "Word: p______\n"
     ]
    },
    {
     "name": "stdin",
     "output_type": "stream",
     "text": [
      "Enter a letter:  j\n"
     ]
    },
    {
     "name": "stdout",
     "output_type": "stream",
     "text": [
      "Incorrect guess!\n",
      "The letter is not present in the word\n",
      "Attempts left to play the game: 3\n",
      "\n",
      "Word: p______\n"
     ]
    },
    {
     "name": "stdin",
     "output_type": "stream",
     "text": [
      "Enter a letter:  y\n"
     ]
    },
    {
     "name": "stdout",
     "output_type": "stream",
     "text": [
      "Incorrect guess!\n",
      "The letter is not present in the word\n",
      "Attempts left to play the game: 2\n",
      "\n",
      "Word: p______\n"
     ]
    },
    {
     "name": "stdin",
     "output_type": "stream",
     "text": [
      "Enter a letter:  g\n"
     ]
    },
    {
     "name": "stdout",
     "output_type": "stream",
     "text": [
      "Correct guess!\n",
      "The letter is present in the word\n",
      "\n",
      "Word: p__g___\n"
     ]
    },
    {
     "name": "stdin",
     "output_type": "stream",
     "text": [
      "Enter a letter:  o\n"
     ]
    },
    {
     "name": "stdout",
     "output_type": "stream",
     "text": [
      "Correct guess!\n",
      "The letter is present in the word\n",
      "\n",
      "Word: p_og___\n"
     ]
    },
    {
     "name": "stdin",
     "output_type": "stream",
     "text": [
      "Enter a letter:  t\n"
     ]
    },
    {
     "name": "stdout",
     "output_type": "stream",
     "text": [
      "Incorrect guess!\n",
      "The letter is not present in the word\n",
      "Attempts left to play the game: 1\n",
      "\n",
      "Word: p_og___\n"
     ]
    },
    {
     "name": "stdin",
     "output_type": "stream",
     "text": [
      "Enter a letter:  m\n"
     ]
    },
    {
     "name": "stdout",
     "output_type": "stream",
     "text": [
      "Correct guess!\n",
      "The letter is present in the word\n",
      "\n",
      "Word: p_og__m\n"
     ]
    },
    {
     "name": "stdin",
     "output_type": "stream",
     "text": [
      "Enter a letter:  r\n"
     ]
    },
    {
     "name": "stdout",
     "output_type": "stream",
     "text": [
      "Correct guess!\n",
      "The letter is present in the word\n",
      "\n",
      "Word: progr_m\n"
     ]
    },
    {
     "name": "stdin",
     "output_type": "stream",
     "text": [
      "Enter a letter:  m\n"
     ]
    },
    {
     "name": "stdout",
     "output_type": "stream",
     "text": [
      "You've already entered that letter. \n",
      " Try to guess another letter rather then this.\n",
      "\n",
      "Word: progr_m\n"
     ]
    },
    {
     "name": "stdin",
     "output_type": "stream",
     "text": [
      "Enter a letter:  a\n"
     ]
    },
    {
     "name": "stdout",
     "output_type": "stream",
     "text": [
      "Correct guess!\n",
      "The letter is present in the word\n",
      "\n",
      "Congratulations! You Won the game.\n",
      " You've guessed the word correct: program\n"
     ]
    }
   ],
   "source": [
    "#Import the random library\n",
    "import random\n",
    "\n",
    "# Function to choose a random word from a predefined list \n",
    "def choose_word_from_list():\n",
    "\n",
    "    # List the set of words\n",
    "    words_list = [\"python\", \"java\", \"excel\", \"java\", \"program\", \"project\", \"application\", \"execute\"]\n",
    "    return random.choice(words_list)\n",
    "\n",
    "# Function to display the word with blanks for unguessed letters\n",
    "def display_word(word, guessed_letters_in_word):\n",
    "    display = \"\"\n",
    "    for character in word:\n",
    "        if character in guessed_letters_in_word:\n",
    "            display += character\n",
    "        else:\n",
    "            display += \"_\"\n",
    "    return display\n",
    "\n",
    "# Main function for the Hangman game\n",
    "def hangman_game():\n",
    "\n",
    "    # Choose a random word in predefined list\n",
    "    random_word = choose_word_from_list()\n",
    "\n",
    "    # List to store guessed letters from user\n",
    "    guessed_letters_in_word = []  \n",
    "\n",
    "     # Number of attempts allowed\n",
    "    attempts_allowed = 5  \n",
    "\n",
    "    # Print the required statements\n",
    "    print(\"Welcome to Hangman Game!\")\n",
    "    print(\" Start the game by trying to guess the word.\")\n",
    "\n",
    "    # loop for the main game\n",
    "    while attempts_allowed > 0:\n",
    "        print(\"\\nWord:\", display_word(random_word, guessed_letters_in_word))\n",
    "\n",
    "        # Take input from user for a letter guess\n",
    "        input_guess = input(\"Enter a letter: \") \n",
    "\n",
    "        # Check if the input is alphabet or numeric\n",
    "        if not input_guess.isalpha(): \n",
    "                print(\"Enter only a letter from alphabet.\") \n",
    "                continue\n",
    "\n",
    "        # Check if the input is a single letter \n",
    "        if len(input_guess) != 1 :\n",
    "            print(\"Enter a single letter from alphabet.\")\n",
    "            continue\n",
    "\n",
    "        # Check if the letter has already been guessed\n",
    "        if input_guess in guessed_letters_in_word:\n",
    "            print(\"You've already entered that letter. \\n Try to guess another letter rather then this.\")\n",
    "            continue\n",
    "\n",
    "        # Add the guessed letter to the list of guessed letters\n",
    "        guessed_letters_in_word.append(input_guess) \n",
    "\n",
    "        # Check if the guessed letter is in the word\n",
    "        if input_guess in random_word:\n",
    "            print(\"Correct guess!\\nThe letter is present in the word\")\n",
    "        else:\n",
    "            print(\"Incorrect guess!\\nThe letter is not present in the word\")\n",
    "\n",
    "             # Decrement the number of attempts remaining based on attempts allowed\n",
    "            attempts_allowed -= 1\n",
    "            print(\"Attempts left to play the game:\", attempts_allowed)\n",
    "\n",
    "        # Check if all letters in the word have been guessed correct \n",
    "        if all(letter in guessed_letters_in_word for letter in random_word):\n",
    "\n",
    "            # If the guessed word is correct then print the statement\n",
    "            print(\"\\nCongratulations! You Won the game.\\n You've guessed the word correct:\", random_word)\n",
    "            break\n",
    "\n",
    "    # If the player runs out of attempts then the game is over\n",
    "    if attempts_allowed == 0:\n",
    "        print(\"\\nSorry,You've reached the maximum allowed attempts.\\n You lost the game,Try again.\\n The correct word was:\", random_word)\n",
    "\n",
    "# Start the game to play\n",
    "hangman_game()"
   ]
  },
  {
   "cell_type": "code",
   "execution_count": null,
   "id": "054522e1-ce08-42be-8ec7-0bbf17248d38",
   "metadata": {},
   "outputs": [],
   "source": []
  }
 ],
 "metadata": {
  "kernelspec": {
   "display_name": "Python 3 (ipykernel)",
   "language": "python",
   "name": "python3"
  },
  "language_info": {
   "codemirror_mode": {
    "name": "ipython",
    "version": 3
   },
   "file_extension": ".py",
   "mimetype": "text/x-python",
   "name": "python",
   "nbconvert_exporter": "python",
   "pygments_lexer": "ipython3",
   "version": "3.12.1"
  }
 },
 "nbformat": 4,
 "nbformat_minor": 5
}
