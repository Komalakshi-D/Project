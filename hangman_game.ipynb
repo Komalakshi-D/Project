{
 "cells": [
  {
   "cell_type": "code",
   "execution_count": 21,
   "id": "373b9bd5-2f70-49f7-a360-2103cad52f65",
   "metadata": {},
   "outputs": [
    {
     "name": "stdout",
     "output_type": "stream",
     "text": [
      "Welcome to Hangman Game!\n",
      "Try to guess the word.\n",
      "\n",
      "Word: ____\n"
     ]
    },
    {
     "name": "stdin",
     "output_type": "stream",
     "text": [
      "Enter a letter:  1\n"
     ]
    },
    {
     "name": "stdout",
     "output_type": "stream",
     "text": [
      "Please enter a single letter from alphabet.\n",
      "\n",
      "Word: ____\n"
     ]
    },
    {
     "name": "stdin",
     "output_type": "stream",
     "text": [
      "Enter a letter:  k\n"
     ]
    },
    {
     "name": "stdout",
     "output_type": "stream",
     "text": [
      "Incorrect guess!\n",
      "Attempts left: 4\n",
      "\n",
      "Word: ____\n"
     ]
    },
    {
     "name": "stdin",
     "output_type": "stream",
     "text": [
      "Enter a letter:  a\n"
     ]
    },
    {
     "name": "stdout",
     "output_type": "stream",
     "text": [
      "Correct guess!\n",
      "\n",
      "Word: _a_a\n"
     ]
    },
    {
     "name": "stdin",
     "output_type": "stream",
     "text": [
      "Enter a letter:  p\n"
     ]
    },
    {
     "name": "stdout",
     "output_type": "stream",
     "text": [
      "Incorrect guess!\n",
      "Attempts left: 3\n",
      "\n",
      "Word: _a_a\n"
     ]
    },
    {
     "name": "stdin",
     "output_type": "stream",
     "text": [
      "Enter a letter:  k\n"
     ]
    },
    {
     "name": "stdout",
     "output_type": "stream",
     "text": [
      "You've already guessed that letter.\n",
      "\n",
      "Word: _a_a\n"
     ]
    },
    {
     "name": "stdin",
     "output_type": "stream",
     "text": [
      "Enter a letter:  v\n"
     ]
    },
    {
     "name": "stdout",
     "output_type": "stream",
     "text": [
      "Correct guess!\n",
      "\n",
      "Word: _ava\n"
     ]
    },
    {
     "name": "stdin",
     "output_type": "stream",
     "text": [
      "Enter a letter:  l\n"
     ]
    },
    {
     "name": "stdout",
     "output_type": "stream",
     "text": [
      "Incorrect guess!\n",
      "Attempts left: 2\n",
      "\n",
      "Word: _ava\n"
     ]
    },
    {
     "name": "stdin",
     "output_type": "stream",
     "text": [
      "Enter a letter:  j\n"
     ]
    },
    {
     "name": "stdout",
     "output_type": "stream",
     "text": [
      "Correct guess!\n",
      "\n",
      "Congratulations!\n",
      " You've guessed the word: java\n"
     ]
    }
   ],
   "source": [
    "#Import the random library\n",
    "import random\n",
    "\n",
    "# Function to choose a random word from a predefined list \n",
    "def choose_word():\n",
    "\n",
    "    # List the set of words\n",
    "    words_list = [\"python\", \"java\", \"excel\", \"java\", \"program\", \"project\", \"application\", \"execute\"]\n",
    "    return random.choice(words_list)\n",
    "\n",
    "# Function to display the word with blanks for unguessed letters\n",
    "def display_word(word, guessed_letters):\n",
    "    display = \"\"\n",
    "    for letter in word:\n",
    "        if letter in guessed_letters:\n",
    "            display += letter\n",
    "        else:\n",
    "            display += \"_\"\n",
    "    return display\n",
    "\n",
    "# Main function for the Hangman game\n",
    "def hangman_game():\n",
    "\n",
    "    # Choose a random word in predefined list\n",
    "    random_word = choose_word()\n",
    "\n",
    "    # List to store guessed letters from user\n",
    "    guessed_letters = []  \n",
    "\n",
    "     # Number of attempts allowed\n",
    "    attempts_allowed = 5  \n",
    "\n",
    "    # Print the required statements\n",
    "    print(\"Welcome to Hangman Game!\")\n",
    "    print(\"Try to guess the word.\")\n",
    "\n",
    "    # loop for the main game\n",
    "    while attempts_allowed > 0:\n",
    "        print(\"\\nWord:\", display_word(random_word, guessed_letters))\n",
    "\n",
    "        # Take input from user for a letter guess\n",
    "        guess = input(\"Enter a letter: \") \n",
    "\n",
    "        # Check if the input is a single letter and it is alphabet\n",
    "        if len(guess) != 1 or not guess.isalpha():\n",
    "            print(\"Please enter a single letter from alphabet.\")\n",
    "            continue\n",
    "\n",
    "        # Check if the letter has already been guessed\n",
    "        if guess in guessed_letters:\n",
    "            print(\"You've already guessed that letter.\")\n",
    "            continue\n",
    "\n",
    "        # Add the guessed letter to the list of guessed letters\n",
    "        guessed_letters.append(guess) \n",
    "\n",
    "        # Check if the guessed letter is in the word\n",
    "        if guess in random_word:\n",
    "            print(\"Correct guess!\")\n",
    "        else:\n",
    "            print(\"Incorrect guess!\")\n",
    "\n",
    "             # Decrement the number of attempts remaining based on attempts allowed\n",
    "            attempts_allowed -= 1\n",
    "            print(\"Attempts left:\", attempts_allowed)\n",
    "\n",
    "        # Check if all letters in the word have been guessed correct \n",
    "        if all(letter in guessed_letters for letter in random_word):\n",
    "\n",
    "            # If the guessed word is correct then print the statement\n",
    "            print(\"\\nCongratulations!\\n You've guessed the word:\", random_word)\n",
    "            break\n",
    "\n",
    "    # If the player runs out of attempts then the game is over\n",
    "    if attempts_allowed == 0:\n",
    "        print(\"\\nSorry, you've run out of attempts.\\n The word was:\", random_word)\n",
    "\n",
    "# Start the game to play\n",
    "hangman_game()"
   ]
  },
  {
   "cell_type": "code",
   "execution_count": null,
   "id": "054522e1-ce08-42be-8ec7-0bbf17248d38",
   "metadata": {},
   "outputs": [],
   "source": []
  }
 ],
 "metadata": {
  "kernelspec": {
   "display_name": "Python 3 (ipykernel)",
   "language": "python",
   "name": "python3"
  },
  "language_info": {
   "codemirror_mode": {
    "name": "ipython",
    "version": 3
   },
   "file_extension": ".py",
   "mimetype": "text/x-python",
   "name": "python",
   "nbconvert_exporter": "python",
   "pygments_lexer": "ipython3",
   "version": "3.12.1"
  }
 },
 "nbformat": 4,
 "nbformat_minor": 5
}
